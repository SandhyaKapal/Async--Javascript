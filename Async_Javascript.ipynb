{
  "nbformat": 4,
  "nbformat_minor": 0,
  "metadata": {
    "colab": {
      "provenance": []
    },
    "kernelspec": {
      "name": "python3",
      "display_name": "Python 3"
    },
    "language_info": {
      "name": "python"
    }
  },
  "cells": [
    {
      "cell_type": "markdown",
      "source": [
        "1. Demonstrate JavaScript's Single-Threaded Nature\n",
        "\n",
        " Question:\n",
        "\n",
        " Write an example to show that JavaScript is single-threaded by creating two competing tasks, one that\n",
        " blocks the event loop and another async function that waits for a promis"
      ],
      "metadata": {
        "id": "vmiRZPqwWecq"
      }
    },
    {
      "cell_type": "code",
      "source": [
        "<!DOCTYPE html>\n",
        "<html>\n",
        "<head>\n",
        "  <title>Single-threaded Demo</title>\n",
        "</head>\n",
        "<body>\n",
        "  <script>\n",
        "    // Blocking task\n",
        "    function blockingTask() {\n",
        "      console.log(\"Blocking task started\");\n",
        "      let sum = 0;\n",
        "      // Heavy computation that blocks the event loop\n",
        "      for (let i = 0; i < 1e9; i++) {\n",
        "        sum += i;\n",
        "      }\n",
        "      console.log(\"Blocking task finished\");\n",
        "    }\n",
        "\n",
        "    // Async task\n",
        "    async function asyncTask() {\n",
        "      console.log(\"Async task started\");\n",
        "      await new Promise((resolve) => setTimeout(resolve, 0)); // simulate async work\n",
        "      console.log(\"Async task finished\");\n",
        "    }\n",
        "\n",
        "    // Start both tasks\n",
        "    asyncTask();\n",
        "    blockingTask();\n",
        "\n",
        "    console.log(\"End of script\");\n",
        "  </script>\n",
        "</body>\n",
        "</html>\n"
      ],
      "metadata": {
        "id": "0sVE_EBlXAmk"
      },
      "execution_count": null,
      "outputs": []
    },
    {
      "cell_type": "markdown",
      "source": [
        "2. Why Does JavaScript Not Execute Asynchronously by Default?\n",
        "\n",
        " Question:\n",
        "\n",
        " JavaScript is often called synchronous and single-threaded, yet it handles asynchronous tasks like AJAX\n",
        " requests, timers, and event listenersB\n",
        "5B Explain why JavaScript does not execute asynchronously by defaultB\n",
        "JB Write a code snippet to prove that JavaScript is inherently synchronousB"
      ],
      "metadata": {
        "id": "T3CFZpwDXFMm"
      }
    },
    {
      "cell_type": "markdown",
      "source": [
        "Single-threaded nature:\n",
        "JavaScript has a single main thread for executing code. Only one operation runs at a time. This simplifies programming because you don’t have to worry about multiple threads modifying the same variables simultaneously.\n",
        "\n",
        "Synchronous execution by default:\n",
        "By default, JavaScript executes code line by line. This means statements run in the order they appear, blocking the next line until the current one finishes.\n",
        "\n",
        "Asynchronous tasks are explicit:\n",
        "JavaScript provides asynchronous mechanisms (like setTimeout, fetch, Promises) that offload work to the event loop or browser APIs. But synchronous code still runs first on the main thread.\n",
        "\n",
        "Reasoning:\n",
        "If JavaScript executed asynchronously by default, it would make debugging very difficult. You couldn’t predict the order of execution or track variable states reliably. Synchronous execution makes the language predictable and easier to reason about.\n",
        "\n",
        "Code Snippet to prove JavaScript is synchronous\n",
        "console.log(\"Start\");\n",
        "\n",
        "function firstTask() {\n",
        "    console.log(\"First task executing\");\n",
        "}\n",
        "\n",
        "function secondTask() {\n",
        "    console.log(\"Second task executing\");\n",
        "}\n",
        "\n",
        "firstTask();\n",
        "secondTask();\n",
        "\n",
        "console.log(\"End\");\n",
        "\n",
        "\n",
        "Expected Output:\n",
        "\n",
        "Start\n",
        "First task executing\n",
        "Second task executing\n",
        "End\n",
        "\n",
        "\n",
        "✅ Explanation:\n",
        "\n",
        "Code runs line by line.\n",
        "\n",
        "No task executes out of order.\n",
        "\n",
        "Even function calls are blocking, meaning the second function waits for the first to finish."
      ],
      "metadata": {
        "id": "mebCBjW_XZts"
      }
    },
    {
      "cell_type": "markdown",
      "source": [
        "3. Chaining Promises with setTimeout\n",
        "\n",
        " Modify the delay function to chain multiple promises so that three messages are logged in sequence with\n",
        " delays"
      ],
      "metadata": {
        "id": "zJw48NMjYVOd"
      }
    },
    {
      "cell_type": "code",
      "source": [
        "// Delay function returns a Promise that resolves after 'ms' milliseconds\n",
        "function delay(ms) {\n",
        "  return new Promise((resolve) => setTimeout(resolve, ms));\n",
        "}\n",
        "\n",
        "// Chaining multiple promises\n",
        "delay(1000)\n",
        "  .then(() => {\n",
        "    console.log(\"Message 1 after 1 second\");\n",
        "    return delay(1000); // next delay\n",
        "  })\n",
        "  .then(() => {\n",
        "    console.log(\"Message 2 after 2 seconds\");\n",
        "    return delay(1000); // next delay\n",
        "  })\n",
        "  .then(() => {\n",
        "    console.log(\"Message 3 after 3 seconds\");\n",
        "  });\n"
      ],
      "metadata": {
        "id": "k224PRuJZNXi"
      },
      "execution_count": null,
      "outputs": []
    },
    {
      "cell_type": "markdown",
      "source": [
        "4. What are the different states of a Promise, and how do they transition"
      ],
      "metadata": {
        "id": "fVBQTB_EZZvs"
      }
    },
    {
      "cell_type": "markdown",
      "source": [
        "Different States of a Promise\n",
        "\n",
        "A JavaScript Promise represents a value that may be available now, in the future, or never. A Promise can be in one of three states:\n",
        "\n",
        "Pending\n",
        "\n",
        "Initial state when a Promise is created.\n",
        "\n",
        "The final value is not yet available.\n",
        "\n",
        "Example: waiting for a network request to complete.\n",
        "\n",
        "Fulfilled (Resolved)\n",
        "\n",
        "The operation completed successfully.\n",
        "\n",
        "A value is available.\n",
        "\n",
        "Handled using .then() or await.\n",
        "\n",
        "Rejected\n",
        "\n",
        "The operation failed.\n",
        "\n",
        "A reason (error) is available.\n",
        "\n",
        "Handled using .catch().\n",
        "\n",
        "State Transitions\n",
        "\n",
        "A Promise starts as Pending and can transition as follows:\n",
        "\n",
        "Pending --> Fulfilled\n",
        "Pending --> Rejected\n",
        "\n",
        "\n",
        "Once a Promise is fulfilled or rejected, it cannot change again. This is called immutability.\n",
        "\n",
        "Code Example\n",
        "const myPromise = new Promise((resolve, reject) => {\n",
        "  let success = true; // toggle to false to see rejection\n",
        "\n",
        "  setTimeout(() => {\n",
        "    if (success) {\n",
        "      resolve(\"Promise fulfilled!\");\n",
        "    } else {\n",
        "      reject(\"Promise rejected!\");\n",
        "    }\n",
        "  }, 2000); // simulate async operation\n",
        "});\n",
        "\n",
        "console.log(\"Promise created, currently pending...\");\n",
        "\n",
        "myPromise\n",
        "  .then((value) => {\n",
        "    console.log(value); // runs if fulfilled\n",
        "  })\n",
        "  .catch((error) => {\n",
        "    console.log(error); // runs if rejected\n",
        "  });\n",
        "\n",
        "\n",
        "Console Output (if success = true):\n",
        "\n",
        "Promise created, currently pending...\n",
        "Promise fulfilled!   // appears after 2 seconds\n",
        "\n",
        "\n",
        "Console Output (if success = false):\n",
        "\n",
        "Promise created, currently pending...\n",
        "Promise rejected!"
      ],
      "metadata": {
        "id": "Bc95tWWmZkEa"
      }
    },
    {
      "cell_type": "markdown",
      "source": [
        "5. How does the JavaScript event loop handle Promises differently from setTimeout?"
      ],
      "metadata": {
        "id": "4CDfnz5rZocY"
      }
    },
    {
      "cell_type": "markdown",
      "source": [
        "ans\n",
        "1. Event Loop Basics\n",
        "\n",
        "JavaScript runs on a single thread and uses an event loop to manage asynchronous tasks. The event loop has two main queues:\n",
        "\n",
        "Macro-task queue (Task queue)\n",
        "\n",
        "Examples: setTimeout, setInterval, I/O events, setImmediate (Node.js)\n",
        "\n",
        "Tasks here are executed after the current execution context and micro-tasks are cleared.\n",
        "\n",
        "Micro-task queue\n",
        "\n",
        "Examples: Promises (.then, catch, finally), MutationObserver\n",
        "\n",
        "Micro-tasks run immediately after the current synchronous code finishes, before any macro-task.\n",
        "\n",
        "2. Key Difference: Promises vs setTimeout\n",
        "Feature\tPromise (.then)\tsetTimeout\n",
        "Queue Type\tMicro-task\tMacro-task\n",
        "Execution Timing\tAfter current synchronous code, before any macro-task\tAfter current synchronous code and all micro-tasks, plus the specified delay\n",
        "Typical Delay\tUsually 0ms\tCan be any delay (default 0ms still goes to macro-task queue)\n",
        "Example Behavior\tExecutes sooner than setTimeout\tExecutes later, even with 0ms delay\n",
        "3. Example\n",
        "console.log(\"Start\");\n",
        "\n",
        "setTimeout(() => {\n",
        "  console.log(\"setTimeout callback\");\n",
        "}, 0);\n",
        "\n",
        "Promise.resolve()\n",
        "  .then(() => {\n",
        "    console.log(\"Promise callback\");\n",
        "  });\n",
        "\n",
        "console.log(\"End\");\n",
        "\n",
        "\n",
        "Expected Output:\n",
        "\n",
        "Start\n",
        "End\n",
        "Promise callback\n",
        "setTimeout callback\n",
        "\n",
        "\n",
        "Explanation:\n",
        "\n",
        "\"Start\" and \"End\" are synchronous, so they run first.\n",
        "\n",
        "The Promise callback goes into the micro-task queue → executes immediately after the synchronous code.\n",
        "\n",
        "The setTimeout callback goes into the macro-task queue → executes after micro-tasks are cleared.\n",
        "\n",
        "4. Key Takeaways\n",
        "\n",
        "Promises run faster than setTimeout because they are micro-tasks.\n",
        "\n",
        "setTimeout always goes to the macro-task queue, even if the delay is 0.\n",
        "\n",
        "The event loop always empties the micro-task queue before moving to the next macro-task."
      ],
      "metadata": {
        "id": "bxECnvOCZ2tJ"
      }
    }
  ]
}